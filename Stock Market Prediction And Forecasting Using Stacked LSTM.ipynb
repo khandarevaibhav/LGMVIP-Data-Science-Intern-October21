{
 "cells": [
  {
   "cell_type": "markdown",
   "id": "98964cd0",
   "metadata": {},
   "source": [
    "# Vaibhav Khandare - Data Science Intern at LetsGrowMore Virtual Internship Program (October-2021)\n"
   ]
  },
  {
   "cell_type": "markdown",
   "id": "5ddb9243",
   "metadata": {},
   "source": [
    "# BEGINNER LEVEL TASK 02 - Stock Market Prediction And Forecasting Using Stacked LSTM\n",
    "\n"
   ]
  },
  {
   "cell_type": "code",
   "execution_count": null,
   "id": "0fd6b2b2",
   "metadata": {},
   "outputs": [],
   "source": []
  },
  {
   "cell_type": "code",
   "execution_count": 1,
   "id": "30996859",
   "metadata": {},
   "outputs": [],
   "source": [
    "\n",
    "import pandas as pd"
   ]
  },
  {
   "cell_type": "code",
   "execution_count": 2,
   "id": "bdae93eb",
   "metadata": {},
   "outputs": [],
   "source": [
    "#read the data of training set\n",
    "dataset_train = pd.read_csv('Google_Stock_Price_Train.csv')"
   ]
  },
  {
   "cell_type": "code",
   "execution_count": 3,
   "id": "0985533c",
   "metadata": {},
   "outputs": [
    {
     "data": {
      "text/html": [
       "<div>\n",
       "<style scoped>\n",
       "    .dataframe tbody tr th:only-of-type {\n",
       "        vertical-align: middle;\n",
       "    }\n",
       "\n",
       "    .dataframe tbody tr th {\n",
       "        vertical-align: top;\n",
       "    }\n",
       "\n",
       "    .dataframe thead th {\n",
       "        text-align: right;\n",
       "    }\n",
       "</style>\n",
       "<table border=\"1\" class=\"dataframe\">\n",
       "  <thead>\n",
       "    <tr style=\"text-align: right;\">\n",
       "      <th></th>\n",
       "      <th>Date</th>\n",
       "      <th>Open</th>\n",
       "      <th>High</th>\n",
       "      <th>Low</th>\n",
       "      <th>Close</th>\n",
       "      <th>Volume</th>\n",
       "    </tr>\n",
       "  </thead>\n",
       "  <tbody>\n",
       "    <tr>\n",
       "      <th>0</th>\n",
       "      <td>1/3/2012</td>\n",
       "      <td>325.25</td>\n",
       "      <td>332.83</td>\n",
       "      <td>324.97</td>\n",
       "      <td>663.59</td>\n",
       "      <td>7,380,500</td>\n",
       "    </tr>\n",
       "    <tr>\n",
       "      <th>1</th>\n",
       "      <td>1/4/2012</td>\n",
       "      <td>331.27</td>\n",
       "      <td>333.87</td>\n",
       "      <td>329.08</td>\n",
       "      <td>666.45</td>\n",
       "      <td>5,749,400</td>\n",
       "    </tr>\n",
       "    <tr>\n",
       "      <th>2</th>\n",
       "      <td>1/5/2012</td>\n",
       "      <td>329.83</td>\n",
       "      <td>330.75</td>\n",
       "      <td>326.89</td>\n",
       "      <td>657.21</td>\n",
       "      <td>6,590,300</td>\n",
       "    </tr>\n",
       "    <tr>\n",
       "      <th>3</th>\n",
       "      <td>1/6/2012</td>\n",
       "      <td>328.34</td>\n",
       "      <td>328.77</td>\n",
       "      <td>323.68</td>\n",
       "      <td>648.24</td>\n",
       "      <td>5,405,900</td>\n",
       "    </tr>\n",
       "    <tr>\n",
       "      <th>4</th>\n",
       "      <td>1/9/2012</td>\n",
       "      <td>322.04</td>\n",
       "      <td>322.29</td>\n",
       "      <td>309.46</td>\n",
       "      <td>620.76</td>\n",
       "      <td>11,688,800</td>\n",
       "    </tr>\n",
       "    <tr>\n",
       "      <th>...</th>\n",
       "      <td>...</td>\n",
       "      <td>...</td>\n",
       "      <td>...</td>\n",
       "      <td>...</td>\n",
       "      <td>...</td>\n",
       "      <td>...</td>\n",
       "    </tr>\n",
       "    <tr>\n",
       "      <th>1253</th>\n",
       "      <td>12/23/2016</td>\n",
       "      <td>790.90</td>\n",
       "      <td>792.74</td>\n",
       "      <td>787.28</td>\n",
       "      <td>789.91</td>\n",
       "      <td>623,400</td>\n",
       "    </tr>\n",
       "    <tr>\n",
       "      <th>1254</th>\n",
       "      <td>12/27/2016</td>\n",
       "      <td>790.68</td>\n",
       "      <td>797.86</td>\n",
       "      <td>787.66</td>\n",
       "      <td>791.55</td>\n",
       "      <td>789,100</td>\n",
       "    </tr>\n",
       "    <tr>\n",
       "      <th>1255</th>\n",
       "      <td>12/28/2016</td>\n",
       "      <td>793.70</td>\n",
       "      <td>794.23</td>\n",
       "      <td>783.20</td>\n",
       "      <td>785.05</td>\n",
       "      <td>1,153,800</td>\n",
       "    </tr>\n",
       "    <tr>\n",
       "      <th>1256</th>\n",
       "      <td>12/29/2016</td>\n",
       "      <td>783.33</td>\n",
       "      <td>785.93</td>\n",
       "      <td>778.92</td>\n",
       "      <td>782.79</td>\n",
       "      <td>744,300</td>\n",
       "    </tr>\n",
       "    <tr>\n",
       "      <th>1257</th>\n",
       "      <td>12/30/2016</td>\n",
       "      <td>782.75</td>\n",
       "      <td>782.78</td>\n",
       "      <td>770.41</td>\n",
       "      <td>771.82</td>\n",
       "      <td>1,770,000</td>\n",
       "    </tr>\n",
       "  </tbody>\n",
       "</table>\n",
       "<p>1258 rows × 6 columns</p>\n",
       "</div>"
      ],
      "text/plain": [
       "            Date    Open    High     Low   Close      Volume\n",
       "0       1/3/2012  325.25  332.83  324.97  663.59   7,380,500\n",
       "1       1/4/2012  331.27  333.87  329.08  666.45   5,749,400\n",
       "2       1/5/2012  329.83  330.75  326.89  657.21   6,590,300\n",
       "3       1/6/2012  328.34  328.77  323.68  648.24   5,405,900\n",
       "4       1/9/2012  322.04  322.29  309.46  620.76  11,688,800\n",
       "...          ...     ...     ...     ...     ...         ...\n",
       "1253  12/23/2016  790.90  792.74  787.28  789.91     623,400\n",
       "1254  12/27/2016  790.68  797.86  787.66  791.55     789,100\n",
       "1255  12/28/2016  793.70  794.23  783.20  785.05   1,153,800\n",
       "1256  12/29/2016  783.33  785.93  778.92  782.79     744,300\n",
       "1257  12/30/2016  782.75  782.78  770.41  771.82   1,770,000\n",
       "\n",
       "[1258 rows x 6 columns]"
      ]
     },
     "execution_count": 3,
     "metadata": {},
     "output_type": "execute_result"
    }
   ],
   "source": [
    "dataset_train"
   ]
  },
  {
   "cell_type": "code",
   "execution_count": 4,
   "id": "4facd690",
   "metadata": {},
   "outputs": [
    {
     "name": "stdout",
     "output_type": "stream",
     "text": [
      "            Date    Open    High     Low   Close      Volume\n",
      "0       1/3/2012  325.25  332.83  324.97  663.59   7,380,500\n",
      "1       1/4/2012  331.27  333.87  329.08  666.45   5,749,400\n",
      "2       1/5/2012  329.83  330.75  326.89  657.21   6,590,300\n",
      "3       1/6/2012  328.34  328.77  323.68  648.24   5,405,900\n",
      "4       1/9/2012  322.04  322.29  309.46  620.76  11,688,800\n",
      "...          ...     ...     ...     ...     ...         ...\n",
      "1253  12/23/2016  790.90  792.74  787.28  789.91     623,400\n",
      "1254  12/27/2016  790.68  797.86  787.66  791.55     789,100\n",
      "1255  12/28/2016  793.70  794.23  783.20  785.05   1,153,800\n",
      "1256  12/29/2016  783.33  785.93  778.92  782.79     744,300\n",
      "1257  12/30/2016  782.75  782.78  770.41  771.82   1,770,000\n",
      "\n",
      "[1258 rows x 6 columns]\n"
     ]
    }
   ],
   "source": [
    "print(dataset_train)"
   ]
  },
  {
   "cell_type": "code",
   "execution_count": 5,
   "id": "8bb9e6e1",
   "metadata": {},
   "outputs": [
    {
     "data": {
      "text/plain": [
       "(1258, 6)"
      ]
     },
     "execution_count": 5,
     "metadata": {},
     "output_type": "execute_result"
    }
   ],
   "source": [
    "dataset_train.shape"
   ]
  },
  {
   "cell_type": "code",
   "execution_count": 6,
   "id": "cf4e2673",
   "metadata": {},
   "outputs": [
    {
     "data": {
      "text/html": [
       "<div>\n",
       "<style scoped>\n",
       "    .dataframe tbody tr th:only-of-type {\n",
       "        vertical-align: middle;\n",
       "    }\n",
       "\n",
       "    .dataframe tbody tr th {\n",
       "        vertical-align: top;\n",
       "    }\n",
       "\n",
       "    .dataframe thead th {\n",
       "        text-align: right;\n",
       "    }\n",
       "</style>\n",
       "<table border=\"1\" class=\"dataframe\">\n",
       "  <thead>\n",
       "    <tr style=\"text-align: right;\">\n",
       "      <th></th>\n",
       "      <th>Date</th>\n",
       "      <th>Open</th>\n",
       "      <th>High</th>\n",
       "      <th>Low</th>\n",
       "      <th>Close</th>\n",
       "      <th>Volume</th>\n",
       "    </tr>\n",
       "  </thead>\n",
       "  <tbody>\n",
       "    <tr>\n",
       "      <th>0</th>\n",
       "      <td>1/3/2012</td>\n",
       "      <td>325.25</td>\n",
       "      <td>332.83</td>\n",
       "      <td>324.97</td>\n",
       "      <td>663.59</td>\n",
       "      <td>7,380,500</td>\n",
       "    </tr>\n",
       "    <tr>\n",
       "      <th>1</th>\n",
       "      <td>1/4/2012</td>\n",
       "      <td>331.27</td>\n",
       "      <td>333.87</td>\n",
       "      <td>329.08</td>\n",
       "      <td>666.45</td>\n",
       "      <td>5,749,400</td>\n",
       "    </tr>\n",
       "    <tr>\n",
       "      <th>2</th>\n",
       "      <td>1/5/2012</td>\n",
       "      <td>329.83</td>\n",
       "      <td>330.75</td>\n",
       "      <td>326.89</td>\n",
       "      <td>657.21</td>\n",
       "      <td>6,590,300</td>\n",
       "    </tr>\n",
       "    <tr>\n",
       "      <th>3</th>\n",
       "      <td>1/6/2012</td>\n",
       "      <td>328.34</td>\n",
       "      <td>328.77</td>\n",
       "      <td>323.68</td>\n",
       "      <td>648.24</td>\n",
       "      <td>5,405,900</td>\n",
       "    </tr>\n",
       "    <tr>\n",
       "      <th>4</th>\n",
       "      <td>1/9/2012</td>\n",
       "      <td>322.04</td>\n",
       "      <td>322.29</td>\n",
       "      <td>309.46</td>\n",
       "      <td>620.76</td>\n",
       "      <td>11,688,800</td>\n",
       "    </tr>\n",
       "  </tbody>\n",
       "</table>\n",
       "</div>"
      ],
      "text/plain": [
       "       Date    Open    High     Low   Close      Volume\n",
       "0  1/3/2012  325.25  332.83  324.97  663.59   7,380,500\n",
       "1  1/4/2012  331.27  333.87  329.08  666.45   5,749,400\n",
       "2  1/5/2012  329.83  330.75  326.89  657.21   6,590,300\n",
       "3  1/6/2012  328.34  328.77  323.68  648.24   5,405,900\n",
       "4  1/9/2012  322.04  322.29  309.46  620.76  11,688,800"
      ]
     },
     "execution_count": 6,
     "metadata": {},
     "output_type": "execute_result"
    }
   ],
   "source": [
    "dataset_train.head()"
   ]
  },
  {
   "cell_type": "code",
   "execution_count": 7,
   "id": "9c1cc408",
   "metadata": {},
   "outputs": [],
   "source": [
    "#read the data of testing set\n",
    "dataset_test = pd.read_csv('Google_Stock_Price_Test.csv')"
   ]
  },
  {
   "cell_type": "code",
   "execution_count": 8,
   "id": "f29d85a1",
   "metadata": {},
   "outputs": [
    {
     "data": {
      "text/plain": [
       "(20, 6)"
      ]
     },
     "execution_count": 8,
     "metadata": {},
     "output_type": "execute_result"
    }
   ],
   "source": [
    "dataset_test.shape"
   ]
  },
  {
   "cell_type": "code",
   "execution_count": 9,
   "id": "479d5ba4",
   "metadata": {},
   "outputs": [],
   "source": [
    "#for creating visuals of this data we storing it in a temp. variable and opening the data in it.\n",
    "training_set = dataset_train[ [ 'Open'] ] "
   ]
  },
  {
   "cell_type": "code",
   "execution_count": 10,
   "id": "8bb8c247",
   "metadata": {},
   "outputs": [
    {
     "data": {
      "text/plain": [
       "(1258, 1)"
      ]
     },
     "execution_count": 10,
     "metadata": {},
     "output_type": "execute_result"
    }
   ],
   "source": [
    "training_set.shape"
   ]
  },
  {
   "cell_type": "code",
   "execution_count": 11,
   "id": "f11b1480",
   "metadata": {},
   "outputs": [
    {
     "data": {
      "text/plain": [
       "<AxesSubplot:>"
      ]
     },
     "execution_count": 11,
     "metadata": {},
     "output_type": "execute_result"
    },
    {
     "data": {
      "image/png": "[encoded data removed]",
      "text/plain": [
       "<Figure size 432x288 with 1 Axes>"
      ]
     },
     "metadata": {
      "needs_background": "light"
     },
     "output_type": "display_data"
    }
   ],
   "source": [
    "#visuals of training dataset\n",
    "training_set.plot()"
   ]
  },
  {
   "cell_type": "code",
   "execution_count": 12,
   "id": "0fdffd1a",
   "metadata": {},
   "outputs": [],
   "source": [
    "real_stock_price = dataset_test[  [ 'Open']  ]"
   ]
  },
  {
   "cell_type": "code",
   "execution_count": 13,
   "id": "b5ade656",
   "metadata": {},
   "outputs": [
    {
     "data": {
      "text/plain": [
       "<AxesSubplot:>"
      ]
     },
     "execution_count": 13,
     "metadata": {},
     "output_type": "execute_result"
    },
    {
     "data": {
      "image/png": "[encoded data removed]",
      "text/plain": [
       "<Figure size 432x288 with 1 Axes>"
      ]
     },
     "metadata": {
      "needs_background": "light"
     },
     "output_type": "display_data"
    }
   ],
   "source": [
    "real_stock_price.plot()"
   ]
  },
  {
   "cell_type": "code",
   "execution_count": 14,
   "id": "584c36c0",
   "metadata": {},
   "outputs": [],
   "source": [
    "#scaling the dataset into a range 0 to 1 for better accuracy.\n",
    "from sklearn.preprocessing  import MinMaxScaler"
   ]
  },
  {
   "cell_type": "code",
   "execution_count": 15,
   "id": "32223232",
   "metadata": {},
   "outputs": [],
   "source": [
    "normalizer = MinMaxScaler(feature_range=(0,1))"
   ]
  },
  {
   "cell_type": "code",
   "execution_count": 16,
   "id": "4a195a72",
   "metadata": {},
   "outputs": [],
   "source": [
    "#here we fit and transformed the training scale data into a range of 0 to 1.\n",
    "training_set_scaled  = normalizer.fit_transform(training_set)"
   ]
  },
  {
   "cell_type": "code",
   "execution_count": 17,
   "id": "f76c1912",
   "metadata": {},
   "outputs": [
    {
     "data": {
      "text/plain": [
       "array([[325.25],\n",
       "       [331.27],\n",
       "       [329.83],\n",
       "       ...,\n",
       "       [793.7 ],\n",
       "       [783.33],\n",
       "       [782.75]])"
      ]
     },
     "execution_count": 17,
     "metadata": {},
     "output_type": "execute_result"
    }
   ],
   "source": [
    "normalizer.inverse_transform(training_set_scaled)"
   ]
  },
  {
   "cell_type": "code",
   "execution_count": 18,
   "id": "5ec9832a",
   "metadata": {},
   "outputs": [
    {
     "data": {
      "text/html": [
       "<div>\n",
       "<style scoped>\n",
       "    .dataframe tbody tr th:only-of-type {\n",
       "        vertical-align: middle;\n",
       "    }\n",
       "\n",
       "    .dataframe tbody tr th {\n",
       "        vertical-align: top;\n",
       "    }\n",
       "\n",
       "    .dataframe thead th {\n",
       "        text-align: right;\n",
       "    }\n",
       "</style>\n",
       "<table border=\"1\" class=\"dataframe\">\n",
       "  <thead>\n",
       "    <tr style=\"text-align: right;\">\n",
       "      <th></th>\n",
       "      <th>Open</th>\n",
       "    </tr>\n",
       "  </thead>\n",
       "  <tbody>\n",
       "    <tr>\n",
       "      <th>0</th>\n",
       "      <td>325.25</td>\n",
       "    </tr>\n",
       "    <tr>\n",
       "      <th>1</th>\n",
       "      <td>331.27</td>\n",
       "    </tr>\n",
       "    <tr>\n",
       "      <th>2</th>\n",
       "      <td>329.83</td>\n",
       "    </tr>\n",
       "    <tr>\n",
       "      <th>3</th>\n",
       "      <td>328.34</td>\n",
       "    </tr>\n",
       "    <tr>\n",
       "      <th>4</th>\n",
       "      <td>322.04</td>\n",
       "    </tr>\n",
       "    <tr>\n",
       "      <th>...</th>\n",
       "      <td>...</td>\n",
       "    </tr>\n",
       "    <tr>\n",
       "      <th>1253</th>\n",
       "      <td>790.90</td>\n",
       "    </tr>\n",
       "    <tr>\n",
       "      <th>1254</th>\n",
       "      <td>790.68</td>\n",
       "    </tr>\n",
       "    <tr>\n",
       "      <th>1255</th>\n",
       "      <td>793.70</td>\n",
       "    </tr>\n",
       "    <tr>\n",
       "      <th>1256</th>\n",
       "      <td>783.33</td>\n",
       "    </tr>\n",
       "    <tr>\n",
       "      <th>1257</th>\n",
       "      <td>782.75</td>\n",
       "    </tr>\n",
       "  </tbody>\n",
       "</table>\n",
       "<p>1258 rows × 1 columns</p>\n",
       "</div>"
      ],
      "text/plain": [
       "        Open\n",
       "0     325.25\n",
       "1     331.27\n",
       "2     329.83\n",
       "3     328.34\n",
       "4     322.04\n",
       "...      ...\n",
       "1253  790.90\n",
       "1254  790.68\n",
       "1255  793.70\n",
       "1256  783.33\n",
       "1257  782.75\n",
       "\n",
       "[1258 rows x 1 columns]"
      ]
     },
     "execution_count": 18,
     "metadata": {},
     "output_type": "execute_result"
    }
   ],
   "source": [
    "training_set"
   ]
  },
  {
   "cell_type": "code",
   "execution_count": 19,
   "id": "6d0bb99b",
   "metadata": {},
   "outputs": [
    {
     "data": {
      "text/plain": [
       "1258"
      ]
     },
     "execution_count": 19,
     "metadata": {},
     "output_type": "execute_result"
    }
   ],
   "source": [
    "len(training_set_scaled)"
   ]
  },
  {
   "cell_type": "code",
   "execution_count": 20,
   "id": "3b33f1d7",
   "metadata": {},
   "outputs": [
    {
     "data": {
      "text/plain": [
       "array([0.08581368, 0.09701243, 0.09433366, 0.09156187, 0.07984225,\n",
       "       0.0643277 , 0.0585423 , 0.06568569, 0.06109085, 0.06639259,\n",
       "       0.0614257 , 0.07474514, 0.02797827, 0.02379269, 0.02409033,\n",
       "       0.0159238 , 0.01078949, 0.00967334, 0.01642607, 0.02100231,\n",
       "       0.02280676, 0.02273235, 0.02810849, 0.03212665, 0.0433812 ,\n",
       "       0.04475779, 0.04790163, 0.0440695 , 0.04648783, 0.04745517,\n",
       "       0.04873875, 0.03936305, 0.04137213, 0.04034898, 0.04784582,\n",
       "       0.04325099, 0.04356723, 0.04286033, 0.04602277, 0.05398467,\n",
       "       0.05738894, 0.05714711, 0.05569611, 0.04421832, 0.04514845,\n",
       "       0.04605997, 0.04412531, 0.03675869, 0.04486941, 0.05065481,\n",
       "       0.05214302, 0.05612397, 0.05818885, 0.06540665, 0.06882953,\n",
       "       0.07243843, 0.07993526, 0.07846566, 0.08034452, 0.08497656])"
      ]
     },
     "execution_count": 20,
     "metadata": {},
     "output_type": "execute_result"
    }
   ],
   "source": [
    "training_set_scaled[0:60, 0]"
   ]
  },
  {
   "cell_type": "code",
   "execution_count": 21,
   "id": "05e5c8bd",
   "metadata": {},
   "outputs": [
    {
     "data": {
      "text/plain": [
       "array([0.08627874])"
      ]
     },
     "execution_count": 21,
     "metadata": {},
     "output_type": "execute_result"
    }
   ],
   "source": [
    "training_set_scaled[60]"
   ]
  },
  {
   "cell_type": "code",
   "execution_count": 22,
   "id": "fc03d8c9",
   "metadata": {},
   "outputs": [],
   "source": [
    "X_train = []"
   ]
  },
  {
   "cell_type": "code",
   "execution_count": 23,
   "id": "7822ef42",
   "metadata": {},
   "outputs": [],
   "source": [
    "y_train = []"
   ]
  },
  {
   "cell_type": "code",
   "execution_count": 24,
   "id": "abdceeb8",
   "metadata": {},
   "outputs": [],
   "source": [
    "steps =  60"
   ]
  },
  {
   "cell_type": "code",
   "execution_count": 25,
   "id": "c2ae7490",
   "metadata": {},
   "outputs": [],
   "source": [
    "#here we created a loop to split same data into training, here first 0 to 60 data is in xtrain and next 60th is in ytrain\n",
    "for i in range(len(training_set_scaled) - steps ):\n",
    "    X_train.append(training_set_scaled[i:i+steps, 0])\n",
    "    y_train.append(training_set_scaled[i+steps, 0 ])"
   ]
  },
  {
   "cell_type": "code",
   "execution_count": 26,
   "id": "72a3d423",
   "metadata": {},
   "outputs": [],
   "source": [
    "import numpy as np\n",
    "X_train_arr = np.array(X_train)"
   ]
  },
  {
   "cell_type": "code",
   "execution_count": 27,
   "id": "b2143fbd",
   "metadata": {},
   "outputs": [
    {
     "data": {
      "text/plain": [
       "(1198, 60)"
      ]
     },
     "execution_count": 27,
     "metadata": {},
     "output_type": "execute_result"
    }
   ],
   "source": [
    "X_train_arr.shape"
   ]
  },
  {
   "cell_type": "code",
   "execution_count": 28,
   "id": "74c637ef",
   "metadata": {},
   "outputs": [
    {
     "data": {
      "text/plain": [
       "(1198, 60)"
      ]
     },
     "execution_count": 28,
     "metadata": {},
     "output_type": "execute_result"
    }
   ],
   "source": [
    "X_train_arr.shape"
   ]
  },
  {
   "cell_type": "code",
   "execution_count": 29,
   "id": "a59ec7ec",
   "metadata": {},
   "outputs": [],
   "source": [
    "# to reshape xtrain \n",
    "X_train_final = np.reshape(X_train, (1198, 60, 1)  )"
   ]
  },
  {
   "cell_type": "code",
   "execution_count": 30,
   "id": "dbd98c79",
   "metadata": {},
   "outputs": [
    {
     "data": {
      "text/plain": [
       "(1198, 60, 1)"
      ]
     },
     "execution_count": 30,
     "metadata": {},
     "output_type": "execute_result"
    }
   ],
   "source": [
    "X_train_final.shape"
   ]
  },
  {
   "cell_type": "code",
   "execution_count": 31,
   "id": "c9c73d1f",
   "metadata": {},
   "outputs": [],
   "source": [
    "y_train_arr = np.array(y_train)"
   ]
  },
  {
   "cell_type": "code",
   "execution_count": 32,
   "id": "418e6242",
   "metadata": {},
   "outputs": [
    {
     "data": {
      "text/plain": [
       "(1198,)"
      ]
     },
     "execution_count": 32,
     "metadata": {},
     "output_type": "execute_result"
    }
   ],
   "source": [
    "y_train_arr.shape"
   ]
  },
  {
   "cell_type": "code",
   "execution_count": 33,
   "id": "edce8fe6",
   "metadata": {},
   "outputs": [],
   "source": [
    "# using Sequential  function we are Training our model\n",
    "from keras.models import Sequential"
   ]
  },
  {
   "cell_type": "code",
   "execution_count": 34,
   "id": "d19d457f",
   "metadata": {},
   "outputs": [],
   "source": [
    "model = Sequential()"
   ]
  },
  {
   "cell_type": "code",
   "execution_count": 35,
   "id": "391bcece",
   "metadata": {},
   "outputs": [],
   "source": [
    "#dense layer to read the edges of image and minimizing a dimension.\n",
    "from keras.layers  import Dense"
   ]
  },
  {
   "cell_type": "code",
   "execution_count": 36,
   "id": "b917b4d1",
   "metadata": {},
   "outputs": [],
   "source": [
    "from  keras.layers import LSTM"
   ]
  },
  {
   "cell_type": "code",
   "execution_count": 37,
   "id": "4655f447",
   "metadata": {},
   "outputs": [],
   "source": [
    "model.add( LSTM( units=60 , return_sequences=True , input_shape= (60, 1)))"
   ]
  },
  {
   "cell_type": "code",
   "execution_count": 38,
   "id": "11542fbd",
   "metadata": {},
   "outputs": [
    {
     "data": {
      "text/plain": [
       "{'name': 'sequential',\n",
       " 'layers': [{'class_name': 'InputLayer',\n",
       "   'config': {'batch_input_shape': (None, 60, 1),\n",
       "    'dtype': 'float32',\n",
       "    'sparse': False,\n",
       "    'ragged': False,\n",
       "    'name': 'lstm_input'}},\n",
       "  {'class_name': 'LSTM',\n",
       "   'config': {'name': 'lstm',\n",
       "    'trainable': True,\n",
       "    'batch_input_shape': (None, 60, 1),\n",
       "    'dtype': 'float32',\n",
       "    'return_sequences': True,\n",
       "    'return_state': False,\n",
       "    'go_backwards': False,\n",
       "    'stateful': False,\n",
       "    'unroll': False,\n",
       "    'time_major': False,\n",
       "    'units': 60,\n",
       "    'activation': 'tanh',\n",
       "    'recurrent_activation': 'sigmoid',\n",
       "    'use_bias': True,\n",
       "    'kernel_initializer': {'class_name': 'GlorotUniform',\n",
       "     'config': {'seed': None}},\n",
       "    'recurrent_initializer': {'class_name': 'Orthogonal',\n",
       "     'config': {'gain': 1.0, 'seed': None}},\n",
       "    'bias_initializer': {'class_name': 'Zeros', 'config': {}},\n",
       "    'unit_forget_bias': True,\n",
       "    'kernel_regularizer': None,\n",
       "    'recurrent_regularizer': None,\n",
       "    'bias_regularizer': None,\n",
       "    'activity_regularizer': None,\n",
       "    'kernel_constraint': None,\n",
       "    'recurrent_constraint': None,\n",
       "    'bias_constraint': None,\n",
       "    'dropout': 0.0,\n",
       "    'recurrent_dropout': 0.0,\n",
       "    'implementation': 2}}]}"
      ]
     },
     "execution_count": 38,
     "metadata": {},
     "output_type": "execute_result"
    }
   ],
   "source": [
    "model.get_config()"
   ]
  },
  {
   "cell_type": "code",
   "execution_count": 39,
   "id": "67b93f27",
   "metadata": {},
   "outputs": [],
   "source": [
    "model.add( LSTM( units=60  , return_sequences=True ))"
   ]
  },
  {
   "cell_type": "code",
   "execution_count": 40,
   "id": "9037b21c",
   "metadata": {},
   "outputs": [],
   "source": [
    "model.add( LSTM( units=60 ))"
   ]
  },
  {
   "cell_type": "code",
   "execution_count": 41,
   "id": "35700930",
   "metadata": {},
   "outputs": [],
   "source": [
    "model.add( Dense( units=1, activation='linear') )"
   ]
  },
  {
   "cell_type": "code",
   "execution_count": 42,
   "id": "d90a90bf",
   "metadata": {},
   "outputs": [],
   "source": [
    "#compiling the model using loss function and optimizer.\n",
    "model.compile(loss='mean_squared_error', optimizer='adam')"
   ]
  },
  {
   "cell_type": "code",
   "execution_count": 43,
   "id": "7a989757",
   "metadata": {},
   "outputs": [
    {
     "name": "stdout",
     "output_type": "stream",
     "text": [
      "Epoch 1/100\n",
      "38/38 [==============================] - 50s 105ms/step - loss: 0.1215\n",
      "Epoch 2/100\n",
      "38/38 [==============================] - 4s 105ms/step - loss: 0.0027\n",
      "Epoch 3/100\n",
      "38/38 [==============================] - 4s 106ms/step - loss: 0.0020\n",
      "Epoch 4/100\n",
      "38/38 [==============================] - 4s 100ms/step - loss: 0.0019\n",
      "Epoch 5/100\n",
      "38/38 [==============================] - 4s 102ms/step - loss: 0.0017\n",
      "Epoch 6/100\n",
      "38/38 [==============================] - 4s 102ms/step - loss: 0.0017\n",
      "Epoch 7/100\n",
      "38/38 [==============================] - 4s 104ms/step - loss: 0.0015\n",
      "Epoch 8/100\n",
      "38/38 [==============================] - 4s 103ms/step - loss: 0.0016\n",
      "Epoch 9/100\n",
      "38/38 [==============================] - 4s 105ms/step - loss: 0.0019\n",
      "Epoch 10/100\n",
      "38/38 [==============================] - 4s 103ms/step - loss: 0.0015\n",
      "Epoch 11/100\n",
      "38/38 [==============================] - 4s 105ms/step - loss: 0.0012\n",
      "Epoch 12/100\n",
      "38/38 [==============================] - 4s 103ms/step - loss: 0.0014\n",
      "Epoch 13/100\n",
      "38/38 [==============================] - 4s 105ms/step - loss: 0.0013\n",
      "Epoch 14/100\n",
      "38/38 [==============================] - 4s 102ms/step - loss: 0.0017\n",
      "Epoch 15/100\n",
      "38/38 [==============================] - 4s 107ms/step - loss: 0.0014\n",
      "Epoch 16/100\n",
      "38/38 [==============================] - 4s 104ms/step - loss: 0.0012\n",
      "Epoch 17/100\n",
      "38/38 [==============================] - 4s 105ms/step - loss: 0.0014\n",
      "Epoch 18/100\n",
      "38/38 [==============================] - 4s 105ms/step - loss: 0.0013\n",
      "Epoch 19/100\n",
      "38/38 [==============================] - 4s 104ms/step - loss: 0.0011\n",
      "Epoch 20/100\n",
      "38/38 [==============================] - 4s 101ms/step - loss: 0.0011\n",
      "Epoch 21/100\n",
      "38/38 [==============================] - 4s 104ms/step - loss: 0.0014\n",
      "Epoch 22/100\n",
      "38/38 [==============================] - 4s 103ms/step - loss: 0.0012\n",
      "Epoch 23/100\n",
      "38/38 [==============================] - 4s 102ms/step - loss: 0.0011\n",
      "Epoch 24/100\n",
      "38/38 [==============================] - 4s 104ms/step - loss: 0.0010\n",
      "Epoch 25/100\n",
      "38/38 [==============================] - 4s 104ms/step - loss: 0.0012\n",
      "Epoch 26/100\n",
      "38/38 [==============================] - 4s 105ms/step - loss: 0.0011\n",
      "Epoch 27/100\n",
      "38/38 [==============================] - 4s 107ms/step - loss: 7.5071e-04\n",
      "Epoch 28/100\n",
      "38/38 [==============================] - 4s 101ms/step - loss: 9.9979e-04\n",
      "Epoch 29/100\n",
      "38/38 [==============================] - 4s 106ms/step - loss: 9.0933e-04\n",
      "Epoch 30/100\n",
      "38/38 [==============================] - 4s 103ms/step - loss: 0.0012\n",
      "Epoch 31/100\n",
      "38/38 [==============================] - 4s 104ms/step - loss: 9.7425e-04\n",
      "Epoch 32/100\n",
      "38/38 [==============================] - 4s 96ms/step - loss: 8.1033e-04: 1s - loss: 7.482 - ETA: 1s -\n",
      "Epoch 33/100\n",
      "38/38 [==============================] - 4s 99ms/step - loss: 8.6389e-04\n",
      "Epoch 34/100\n",
      "38/38 [==============================] - 4s 104ms/step - loss: 6.2409e-04\n",
      "Epoch 35/100\n",
      "38/38 [==============================] - 4s 109ms/step - loss: 7.9335e-04\n",
      "Epoch 36/100\n",
      "38/38 [==============================] - 4s 108ms/step - loss: 6.8983e-04\n",
      "Epoch 37/100\n",
      "38/38 [==============================] - 4s 106ms/step - loss: 8.5355e-04\n",
      "Epoch 38/100\n",
      "38/38 [==============================] - 4s 112ms/step - loss: 6.9282e-04\n",
      "Epoch 39/100\n",
      "38/38 [==============================] - 4s 106ms/step - loss: 6.8599e-04\n",
      "Epoch 40/100\n",
      "38/38 [==============================] - 4s 101ms/step - loss: 7.3927e-04\n",
      "Epoch 41/100\n",
      "38/38 [==============================] - 4s 103ms/step - loss: 6.7743e-04\n",
      "Epoch 42/100\n",
      "38/38 [==============================] - 4s 102ms/step - loss: 6.3091e-04\n",
      "Epoch 43/100\n",
      "38/38 [==============================] - 4s 104ms/step - loss: 7.4205e-04\n",
      "Epoch 44/100\n",
      "38/38 [==============================] - 4s 103ms/step - loss: 6.8467e-04\n",
      "Epoch 45/100\n",
      "38/38 [==============================] - 4s 103ms/step - loss: 6.9679e-04\n",
      "Epoch 46/100\n",
      "38/38 [==============================] - 4s 103ms/step - loss: 5.2398e-04\n",
      "Epoch 47/100\n",
      "38/38 [==============================] - 4s 106ms/step - loss: 5.2483e-04\n",
      "Epoch 48/100\n",
      "38/38 [==============================] - 4s 104ms/step - loss: 4.8836e-04\n",
      "Epoch 49/100\n",
      "38/38 [==============================] - 4s 104ms/step - loss: 5.7483e-04\n",
      "Epoch 50/100\n",
      "38/38 [==============================] - 4s 105ms/step - loss: 4.4652e-04\n",
      "Epoch 51/100\n",
      "38/38 [==============================] - 4s 101ms/step - loss: 3.9983e-04\n",
      "Epoch 52/100\n",
      "38/38 [==============================] - 4s 103ms/step - loss: 4.1830e-04\n",
      "Epoch 53/100\n",
      "38/38 [==============================] - 4s 104ms/step - loss: 3.5031e-04\n",
      "Epoch 54/100\n",
      "38/38 [==============================] - 4s 101ms/step - loss: 5.4320e-04\n",
      "Epoch 55/100\n",
      "38/38 [==============================] - 4s 103ms/step - loss: 4.9408e-04\n",
      "Epoch 56/100\n",
      "38/38 [==============================] - 4s 106ms/step - loss: 3.8254e-04\n",
      "Epoch 57/100\n",
      "38/38 [==============================] - 4s 102ms/step - loss: 3.7932e-04\n",
      "Epoch 58/100\n",
      "38/38 [==============================] - 4s 104ms/step - loss: 4.2365e-04\n",
      "Epoch 59/100\n",
      "38/38 [==============================] - 4s 103ms/step - loss: 4.0353e-04\n",
      "Epoch 60/100\n",
      "38/38 [==============================] - 4s 104ms/step - loss: 3.6252e-04\n",
      "Epoch 61/100\n",
      "38/38 [==============================] - 4s 105ms/step - loss: 3.1983e-04\n",
      "Epoch 62/100\n",
      "38/38 [==============================] - 4s 105ms/step - loss: 4.4646e-04\n",
      "Epoch 63/100\n",
      "38/38 [==============================] - 4s 101ms/step - loss: 3.6557e-04\n",
      "Epoch 64/100\n",
      "38/38 [==============================] - 4s 103ms/step - loss: 3.2962e-04\n",
      "Epoch 65/100\n",
      "38/38 [==============================] - 4s 102ms/step - loss: 6.0205e-04\n",
      "Epoch 66/100\n",
      "38/38 [==============================] - 4s 106ms/step - loss: 4.1187e-04\n",
      "Epoch 67/100\n",
      "38/38 [==============================] - 4s 103ms/step - loss: 4.4713e-04\n",
      "Epoch 68/100\n",
      "38/38 [==============================] - 4s 101ms/step - loss: 4.1559e-04\n",
      "Epoch 69/100\n",
      "38/38 [==============================] - 4s 103ms/step - loss: 3.0625e-04\n",
      "Epoch 70/100\n",
      "38/38 [==============================] - 4s 103ms/step - loss: 3.5006e-04\n",
      "Epoch 71/100\n",
      "38/38 [==============================] - 4s 101ms/step - loss: 4.6802e-04\n",
      "Epoch 72/100\n",
      "38/38 [==============================] - 4s 102ms/step - loss: 3.0910e-04\n",
      "Epoch 73/100\n",
      "38/38 [==============================] - 4s 103ms/step - loss: 4.8998e-04\n",
      "Epoch 74/100\n",
      "38/38 [==============================] - 4s 102ms/step - loss: 4.3534e-04\n",
      "Epoch 75/100\n",
      "38/38 [==============================] - 4s 102ms/step - loss: 4.0257e-04\n",
      "Epoch 76/100\n",
      "38/38 [==============================] - 4s 101ms/step - loss: 2.6192e-04\n",
      "Epoch 77/100\n",
      "38/38 [==============================] - 4s 104ms/step - loss: 3.3226e-04\n",
      "Epoch 78/100\n",
      "38/38 [==============================] - 4s 103ms/step - loss: 2.4268e-04\n",
      "Epoch 79/100\n",
      "38/38 [==============================] - 4s 103ms/step - loss: 3.4300e-04\n",
      "Epoch 80/100\n",
      "38/38 [==============================] - 4s 101ms/step - loss: 3.8608e-04\n",
      "Epoch 81/100\n",
      "38/38 [==============================] - 4s 100ms/step - loss: 3.4310e-04\n",
      "Epoch 82/100\n",
      "38/38 [==============================] - 4s 104ms/step - loss: 3.7902e-04\n",
      "Epoch 83/100\n",
      "38/38 [==============================] - 4s 105ms/step - loss: 2.6817e-04\n",
      "Epoch 84/100\n",
      "38/38 [==============================] - 4s 101ms/step - loss: 3.5734e-04\n",
      "Epoch 85/100\n",
      "38/38 [==============================] - 4s 101ms/step - loss: 3.6674e-04 \n",
      "Epoch 86/100\n",
      "38/38 [==============================] - 4s 102ms/step - loss: 4.1200e-04\n",
      "Epoch 87/100\n",
      "38/38 [==============================] - 4s 104ms/step - loss: 2.3729e-04\n",
      "Epoch 88/100\n",
      "38/38 [==============================] - 4s 102ms/step - loss: 3.1093e-04\n",
      "Epoch 89/100\n",
      "38/38 [==============================] - 4s 102ms/step - loss: 3.0076e-04\n",
      "Epoch 90/100\n",
      "38/38 [==============================] - 4s 101ms/step - loss: 4.6298e-04 1s - lo\n",
      "Epoch 91/100\n",
      "38/38 [==============================] - 4s 102ms/step - loss: 3.1406e-04\n",
      "Epoch 92/100\n",
      "38/38 [==============================] - 4s 102ms/step - loss: 2.9282e-04\n",
      "Epoch 93/100\n",
      "38/38 [==============================] - 4s 105ms/step - loss: 4.4074e-04\n",
      "Epoch 94/100\n",
      "38/38 [==============================] - 4s 102ms/step - loss: 2.8019e-04\n",
      "Epoch 95/100\n",
      "38/38 [==============================] - 4s 101ms/step - loss: 2.7107e-04\n",
      "Epoch 96/100\n"
     ]
    },
    {
     "name": "stdout",
     "output_type": "stream",
     "text": [
      "38/38 [==============================] - 4s 104ms/step - loss: 4.4315e-04\n",
      "Epoch 97/100\n",
      "38/38 [==============================] - 4s 105ms/step - loss: 2.6715e-04\n",
      "Epoch 98/100\n",
      "38/38 [==============================] - 4s 102ms/step - loss: 2.8528e-04 0s - loss: 2.82\n",
      "Epoch 99/100\n",
      "38/38 [==============================] - 4s 102ms/step - loss: 3.4692e-04\n",
      "Epoch 100/100\n",
      "38/38 [==============================] - 4s 104ms/step - loss: 3.0421e-04\n"
     ]
    },
    {
     "data": {
      "text/plain": [
       "<keras.callbacks.History at 0x2429d9455e0>"
      ]
     },
     "execution_count": 43,
     "metadata": {},
     "output_type": "execute_result"
    }
   ],
   "source": [
    "#now time to fit the xtrain and ytrain data into a model\n",
    "model.fit(X_train_final , y_train_arr, epochs=100)"
   ]
  },
  {
   "cell_type": "code",
   "execution_count": 44,
   "id": "19718d93",
   "metadata": {},
   "outputs": [],
   "source": [
    "#ploting loss function\n",
    "l = model.history.history[\"loss\"]"
   ]
  },
  {
   "cell_type": "code",
   "execution_count": 45,
   "id": "55e76cfd",
   "metadata": {},
   "outputs": [],
   "source": [
    "import matplotlib.pyplot as plt"
   ]
  },
  {
   "cell_type": "code",
   "execution_count": 46,
   "id": "387c47a4",
   "metadata": {},
   "outputs": [
    {
     "data": {
      "text/plain": [
       "[<matplotlib.lines.Line2D at 0x242a8d7d250>]"
      ]
     },
     "execution_count": 46,
     "metadata": {},
     "output_type": "execute_result"
    },
    {
     "data": {
      "image/png": "[encoded data removed]",
      "text/plain": [
       "<Figure size 432x288 with 1 Axes>"
      ]
     },
     "metadata": {
      "needs_background": "light"
     },
     "output_type": "display_data"
    }
   ],
   "source": [
    "plt.plot(l)"
   ]
  },
  {
   "cell_type": "code",
   "execution_count": 47,
   "id": "c9eb5513",
   "metadata": {},
   "outputs": [],
   "source": [
    "#predicting the \n",
    "predict = model.predict(X_train_final)"
   ]
  },
  {
   "cell_type": "code",
   "execution_count": 48,
   "id": "57b19455",
   "metadata": {},
   "outputs": [
    {
     "data": {
      "text/plain": [
       "array([[0.08326909],\n",
       "       [0.08556852],\n",
       "       [0.08659552],\n",
       "       ...,\n",
       "       [0.9463127 ],\n",
       "       [0.9525548 ],\n",
       "       [0.9300746 ]], dtype=float32)"
      ]
     },
     "execution_count": 48,
     "metadata": {},
     "output_type": "execute_result"
    }
   ],
   "source": [
    "predict\n"
   ]
  },
  {
   "cell_type": "code",
   "execution_count": 49,
   "id": "2dda5df2",
   "metadata": {},
   "outputs": [
    {
     "data": {
      "text/plain": [
       "[<matplotlib.lines.Line2D at 0x242a971eeb0>]"
      ]
     },
     "execution_count": 49,
     "metadata": {},
     "output_type": "execute_result"
    },
    {
     "data": {
      "image/png": "[encoded data removed]",
      "text/plain": [
       "<Figure size 432x288 with 1 Axes>"
      ]
     },
     "metadata": {
      "needs_background": "light"
     },
     "output_type": "display_data"
    }
   ],
   "source": [
    "plt.plot(y_train_arr)\n",
    "plt.plot(predict)"
   ]
  },
  {
   "cell_type": "code",
   "execution_count": 50,
   "id": "4933b37c",
   "metadata": {},
   "outputs": [],
   "source": [
    "pdl =  pd.DataFrame(l)"
   ]
  },
  {
   "cell_type": "code",
   "execution_count": 51,
   "id": "6b2b1d39",
   "metadata": {},
   "outputs": [
    {
     "data": {
      "text/plain": [
       "<AxesSubplot:>"
      ]
     },
     "execution_count": 51,
     "metadata": {},
     "output_type": "execute_result"
    },
    {
     "data": {
      "image/png": "[encoded data removed]",
      "text/plain": [
       "<Figure size 432x288 with 1 Axes>"
      ]
     },
     "metadata": {
      "needs_background": "light"
     },
     "output_type": "display_data"
    }
   ],
   "source": [
    "pdl.plot()"
   ]
  },
  {
   "cell_type": "code",
   "execution_count": null,
   "id": "c94f6d4f",
   "metadata": {},
   "outputs": [],
   "source": []
  }
 ],
 "metadata": {
  "kernelspec": {
   "display_name": "Python 3",
   "language": "python",
   "name": "python3"
  },
  "language_info": {
   "codemirror_mode": {
    "name": "ipython",
    "version": 3
   },
   "file_extension": ".py",
   "mimetype": "text/x-python",
   "name": "python",
   "nbconvert_exporter": "python",
   "pygments_lexer": "ipython3",
   "version": "3.8.8"
  }
 },
 "nbformat": 4,
 "nbformat_minor": 5
}
